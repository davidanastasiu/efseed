{
 "cells": [
  {
   "cell_type": "markdown",
   "metadata": {},
   "source": [
    "## <font color=blue >EF-SEED demo.\n",
    "This notebook demos how to train the EF-SEED model on the CSV dataset files of ***SFC*** stream sensor. If you want to run it on other sensors, just change the parameter of ***--stream_sensor*** and ***--rain_sensor***.\n",
    "\n",
    "In our dataset, the parameters should be set to:\n",
    "\n",
    "--stream_sensor **Ross_S_fixed**\n",
    "--rain_sensor **Ross_R_fixed** \n",
    "\n",
    "--stream_sensor **Saratoga_S_fixed** \n",
    "--rain_sensor **Saratoga_R_fixed** \n",
    "\n",
    "--stream_sensor **UpperPen_S_fixed** \n",
    "--rain_sensor **UpperPen_R_fixed** \n",
    "\n",
    "--stream_sensor **SFC_S_fixed** \n",
    "--rain_sensor **SFC_R_fixed** \n",
    "\n",
    "With EF-SEED, you can build **multi-variate** model, which means you have stream sensor data and nearby rain sensor data.\n"
   ]
  },
  {
   "cell_type": "markdown",
   "metadata": {},
   "source": [
    "## <font color=blue >Parameter setting. \n",
    "\n",
    "--**stream_sensor**: stream dataset file name. The file should be csv file.\n",
    "\n",
    "--**rain_sensor**: rain dataset file name. The file should be csv file.\n",
    "\n",
    "--**train_volume**: train set size.\n",
    "\n",
    "--**hidden_dim**: hidden dim of lstm layers.\n",
    "\n",
    "--**atten_dim**: hidden dim of attention layers.\n",
    "\n",
    "--**layer**: number of layers.\n",
    "    \n",
    "--**os_s**: oversampling steps.\n",
    "\n",
    "--**os_v**: oversampling frequency.\n",
    "\n",
    "--**oversampling**: ratio of training data with extreme points.\n",
    "    \n",
    "--**watershed**: 1 if trained with rain info, else 0.\n",
    "\n",
    "--**model**: model name, used to generate the pt file and predicted file names.\n",
    "\n",
    "--**mode**: set it to 'train' or 'inference' with an existing pt_file.\n",
    "\n",
    "--**pt_file**: if set, the model will be loaded from this pt file, otherwise check the file according to the assigned parameters.\n",
    "\n",
    "--**save**: if save the predicted file of testset, set to 1, else 0.\n",
    "\n",
    "--**outf**: default value is './output', the model will be saved in the train folder in this directory."
   ]
  },
  {
   "cell_type": "markdown",
   "metadata": {},
   "source": [
    "## <font color=blue >Train a *multi-variate* model with rain data."
   ]
  },
  {
   "cell_type": "code",
   "execution_count": null,
   "metadata": {},
   "outputs": [],
   "source": [
    "! python run.py \\\n",
    "--stream_sensor SFC_S_fixed \\\n",
    "--rain_sensor SFC_R_fixed \\\n",
    "--model SFC_withRain \\\n",
    "--mode train \\\n",
    "--oversampling 20 \\\n",
    "--os_s 16 \\\n",
    "--os_v 4 \\\n",
    "--cnn_dim 128 \\\n",
    "--watershed 1 \\\n",
    "--r_shift 60 \\\n",
    "--train_volume 19000 \\\n",
    "--hidden_dim 512 \\\n",
    "--gpu_id 0 \\\n",
    "--layer 1 \\\n",
    "--quantile 85 \\\n",
    "--epochs 5 \\"
   ]
  },
  {
   "cell_type": "markdown",
   "metadata": {},
   "source": [
    "## <font color=blue >Load a trained model."
   ]
  },
  {
   "cell_type": "code",
   "execution_count": 7,
   "metadata": {},
   "outputs": [
    {
     "name": "stdout",
     "output_type": "stream",
     "text": [
      "current dir:  /data/hydro/hydro-2/code/EF-SEED\n",
      "Importing parameters from:  opt.txt ............\n",
      "norm is:  [1.38939955e+00 1.42360186e+00 7.20744940e-04 7.35950598e-03]\n"
     ]
    }
   ],
   "source": [
    "import numpy as np\n",
    "import random\n",
    "import imp\n",
    "from utils.utils2 import *\n",
    "from run import Options\n",
    "from models.EFSEED import *\n",
    "pt = './output/SFC_withRain/train/SFC_withRain.zip'\n",
    "# get model\n",
    "model = Options().get_model(pt)"
   ]
  },
  {
   "cell_type": "markdown",
   "metadata": {},
   "source": [
    "## <font color=blue >Use test_single to do inferencing on one time-point."
   ]
  },
  {
   "cell_type": "code",
   "execution_count": 9,
   "metadata": {},
   "outputs": [
    {
     "name": "stdout",
     "output_type": "stream",
     "text": [
      "test_point is:  2021-12-16 01:45:00\n",
      "RMSE:  54.468731098601765\n",
      "MAPE:  0.49577051916824405\n"
     ]
    },
    {
     "data": {
      "image/png": "[encoded data removed]",
      "text/plain": [
       "<Figure size 1080x216 with 1 Axes>"
      ]
     },
     "metadata": {
      "needs_background": "light"
     },
     "output_type": "display_data"
    }
   ],
   "source": [
    "import numpy as np\n",
    "from utils.utils2 import *\n",
    "testP=[\"2021-12-16 01:45:00\" ] \n",
    "predicted, ground_truth = model.test_single(testP[0])\n",
    "print(\"RMSE: \", RMSE(predicted, ground_truth))\n",
    "print(\"MAPE: \", MAPE(predicted, ground_truth))\n",
    "plot(ground_truth, predicted)"
   ]
  },
  {
   "cell_type": "markdown",
   "metadata": {},
   "source": [
    "## <font color=blue >Inferencing for real-world application.\n",
    "If you already have test time point, history stream input and rain data input prepared, use ***predict*** function to do it."
   ]
  },
  {
   "cell_type": "code",
   "execution_count": 4,
   "metadata": {},
   "outputs": [
    {
     "name": "stdout",
     "output_type": "stream",
     "text": [
      "current dir:  /data/hydro/hydro-2/code/EF-SEED\n",
      "Importing parameters from:  opt.txt ............\n",
      "norm is:  [1.38939955e+00 1.42360186e+00 7.20744940e-04 7.35950598e-03]\n",
      "test_point is:  2021-12-16 00:30:00\n",
      "Predicted data: \n",
      "[101.79779534 100.6858777  102.42111973 109.08237687 128.74413514\n",
      " 139.47903627 165.73802822 174.91243354 199.42452373 208.45292049\n",
      " 220.47304428 229.31652687 228.59690342 233.35242455 237.07321053\n",
      " 244.01224716 250.10423504 256.68498784 275.53624646 280.12508314\n",
      " 292.59755437 305.75745666 323.15524354 341.92456035 338.35947777\n",
      " 328.54534203 322.2050539  314.68469381 303.46031451 296.10754521\n",
      " 287.50875692 286.76012427 292.08420382 300.02484713 307.06880046\n",
      " 315.94791233 324.17918687 320.37453678 316.2092152  308.46714319\n",
      " 298.24285148 292.93496663 286.0303851  278.68625534 272.00275274\n",
      " 266.47391693 261.46723281 257.3518699  254.48376236 253.9907462\n",
      " 255.20824709 258.7344503  260.94473656 265.70028588 264.94956274\n",
      " 262.34028757 259.00338099 252.84062553 243.58185488 237.2280836\n",
      " 236.31614107 235.00739107 233.30740794 231.10049485 228.30540336\n",
      " 225.08792385 221.49297352 213.34485964 204.8161381  197.80735362\n",
      " 194.7624258  191.64090955 183.79725005 175.96516017 167.34990018\n",
      " 155.01135323 138.20779817 124.04901127 123.06031959 122.38574215\n",
      " 121.81137611 121.39964836 121.09534322 120.80911637 120.6092601\n",
      " 119.46890731 118.23373766 117.31310836 115.91318979 115.12377711\n",
      " 112.04730643 109.73137932 107.39455554 103.75611534  99.11666759\n",
      "  95.48822023  95.41092994  95.38105835  95.35600345  95.36195585\n",
      "  95.36686195  95.3563959   95.35999348  94.7540684   94.05214716\n",
      "  93.43700748  92.6091027   92.04520006  90.48901774  89.27978822\n",
      "  88.11015968  86.38335592  84.05996211  81.66215721  81.16422702\n",
      "  80.91654074  80.47725897  80.17395778  80.06060744  80.23340815\n",
      "  80.35823826  80.1314294   79.97420757  79.54987546  79.18166122\n",
      "  79.00515069  78.40913448  77.87825468  77.32008181  76.50041211\n",
      "  75.39601161  74.48430617  74.49099338  74.50416457  74.51175057\n",
      "  74.50649667  74.5092389   74.51308333  74.48784187  72.7970558\n",
      "  70.4933967   68.1434326   66.76347263  65.33444808  63.10926016\n",
      "  60.39627171  57.82140626  54.84203637  51.32946978  48.3295531\n",
      "  48.28954496  48.29418762  48.27766007  48.26901375  48.27752626\n",
      "  48.27516803  48.28552167  48.16323192  47.99012144  47.80507083\n",
      "  47.59763769  47.47994247  47.18403063  46.63261962  46.12738717\n",
      "  45.74310729  45.12516078  44.40044518  44.10774918  43.79098176\n",
      "  43.38376373  43.15437739  43.0369342   42.96441274  43.12553016\n",
      "  43.37883793  43.64956999  43.73118409  43.93884298  44.08566203\n",
      "  44.22491666  44.12496875  43.98490725  43.60824724  42.84588243\n",
      "  42.35062691  42.08579671  41.95131373  41.9976027   42.12319157\n",
      "  42.4497859   42.61725516  42.48516463  42.12524074  41.71217716\n",
      "  41.25560684  40.63025312  40.02597462  39.86043087  39.74684599\n",
      "  39.62906036  39.75320829  39.95173937  39.98022947  39.69034809\n",
      "  39.22781348  39.13583723  39.02808409  38.50237628  38.25111542\n",
      "  38.05076087  36.88311203  35.54906434  34.26764446  32.98569555\n",
      "  31.9405261   30.64282994  29.16303997  28.10831163  27.34073201\n",
      "  26.2189835   25.07455368  25.08520246  24.93386928  24.43892919\n",
      "  24.23531825  24.26789558  24.55176574  24.94014167  25.11651893\n",
      "  25.10908285  24.80137345  24.44655011  24.05590999  23.75055935\n",
      "  23.75395345  23.92659248  24.10640835  24.57483661  25.35455737\n",
      "  25.88368117  25.96291319  26.00262818  26.10804816  25.94579147\n",
      "  25.84175408  25.74493932  25.41803196  25.14204282  24.85487041\n",
      "  24.53541878  24.60227281  24.87097843  24.91890529  24.81584898\n",
      "  24.68074829  24.43787151  24.08525852  23.9721638   23.80931182\n",
      "  23.64863869  23.69003947  23.91245491  24.08967781  24.08331308\n",
      "  24.01650655  23.97469821  23.77769576  23.59014153  23.81865203\n",
      "  24.12871035  24.31279782  24.55247691  24.70424969  24.40348849\n",
      "  24.15718352  23.90386971  23.92748084  24.2273239   24.73583381\n",
      "  25.17953128  25.50156684  26.19310035  25.57638906  24.78298962\n",
      "  23.77499634  23.75138263  23.38198405]\n"
     ]
    }
   ],
   "source": [
    "import numpy as np\n",
    "import random\n",
    "from utils.utils2 import *\n",
    "from run import Options\n",
    "from models.EFSEED import *\n",
    "from models.Inference import *\n",
    "opt = Options().parse()\n",
    "# model name\n",
    "pt = './output/SFC_withRain/train/SFC_withRain.zip'\n",
    "# get model\n",
    "model = Options().get_model(pt)\n",
    "# get data\n",
    "testP=[\"2021-12-16 00:30:00\"]   \n",
    "for i in range(len(testP)):\n",
    "    stream_data, indicator_data, _ = model.get_data(testP[i])  \n",
    "    p = model.predict(testP[i], stream_data, indicator_data)\n",
    "    print(\"Predicted data: \")\n",
    "    print(p)"
   ]
  },
  {
   "cell_type": "code",
   "execution_count": null,
   "metadata": {},
   "outputs": [],
   "source": []
  }
 ],
 "metadata": {
  "kernelspec": {
   "display_name": "Python 3",
   "language": "python",
   "name": "python3"
  },
  "language_info": {
   "codemirror_mode": {
    "name": "ipython",
    "version": 3
   },
   "file_extension": ".py",
   "mimetype": "text/x-python",
   "name": "python",
   "nbconvert_exporter": "python",
   "pygments_lexer": "ipython3",
   "version": "3.8.3"
  }
 },
 "nbformat": 4,
 "nbformat_minor": 4
}
