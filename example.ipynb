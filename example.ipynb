{
 "cells": [
  {
   "cell_type": "markdown",
   "metadata": {},
   "source": [
    "## <font color=blue >EF-SEED demo.\n",
    "This notebook demos how to train the EF-SEED model on the CSV dataset files of ***SFC*** stream sensor. If you want to run it on other sensors, just change the parameter of ***--stream_sensor*** and ***--rain_sensor***.\n",
    "\n",
    "In our dataset, the parameters should be set to:\n",
    "\n",
    "--stream_sensor **Ross_S_fixed**\n",
    "--rain_sensor **Ross_R_fixed** \n",
    "\n",
    "--stream_sensor **Saratoga_S_fixed** \n",
    "--rain_sensor **Saratoga_R_fixed** \n",
    "\n",
    "--stream_sensor **UpperPen_S_fixed** \n",
    "--rain_sensor **UpperPen_R_fixed** \n",
    "\n",
    "--stream_sensor **SFC_S_fixed** \n",
    "--rain_sensor **SFC_R_fixed** \n",
    "\n",
    "With EF-SEED, you can build **multi-variate** model, which means you have stream sensor data and nearby rain sensor data.\n"
   ]
  },
  {
   "cell_type": "markdown",
   "metadata": {},
   "source": [
    "## <font color=blue >Parameter setting. \n",
    "\n",
    "--**stream_sensor**: stream dataset file name. The file should be csv file.\n",
    "\n",
    "--**rain_sensor**: rain dataset file name. The file should be csv file.\n",
    "\n",
    "--**train_volume**: train set size.\n",
    "\n",
    "--**hidden_dim**: hidden dim of lstm layers.\n",
    "\n",
    "--**cnn_dim**: hidden dim of cnn layers.\n",
    "\n",
    "--**layer**: number of layers.\n",
    "    \n",
    "--**os_s**: oversampling steps.\n",
    "\n",
    "--**os_v**: oversampling frequency.\n",
    "\n",
    "--**r_shift**: shift positions of rain hinter.\n",
    "\n",
    "--**oversampling**: ratio of training data with extreme points.\n",
    "    \n",
    "--**watershed**: 1 if trained with rain info, else 0.\n",
    "\n",
    "--**model**: model name, used to generate the pt file and predicted file names.\n",
    "\n",
    "--**mode**: set it to 'train' or 'inference' with an existing pt_file.\n",
    "\n",
    "--**pt_file**: if set, the model will be loaded from this pt file, otherwise check the file according to the assigned parameters.\n",
    "\n",
    "--**save**: if save the predicted file of testset, set to 1, else 0.\n",
    "\n",
    "--**outf**: default value is './output', the model will be saved in the train folder in this directory."
   ]
  },
  {
   "cell_type": "markdown",
   "metadata": {},
   "source": [
    "## <font color=blue >Train a *multi-variate* model with rain data."
   ]
  },
  {
   "cell_type": "code",
   "execution_count": null,
   "metadata": {},
   "outputs": [],
   "source": [
    "!export PYTHONPATH=/data/hydro/hydro-2/code && \\\n",
    "python -m efseed-main.run \\\n",
    "--stream_sensor SFC_S_fixed \\\n",
    "--rain_sensor SFC_R_fixed \\\n",
    "--model SFC_withRain \\\n",
    "--mode train \\\n",
    "--oversampling 20 \\\n",
    "--os_s 16 \\\n",
    "--os_v 4 \\\n",
    "--cnn_dim 128 \\\n",
    "--watershed 1 \\\n",
    "--r_shift 60 \\\n",
    "--train_volume 19000 \\\n",
    "--hidden_dim 512 \\\n",
    "--gpu_id 0 \\\n",
    "--layer 1 \\\n",
    "--quantile 85 \\\n",
    "--epochs 5 \\"
   ]
  },
  {
   "cell_type": "markdown",
   "metadata": {},
   "source": [
    "## <font color=blue >\n",
    "\n",
    "To test, we provide the test.py to produce a prediction and compare with the ground truth values. The fig is saved in output.png.\n",
    "\n",
    "--**model_path**: The model zip file path.\n",
    "\n",
    "--**test_time**: The start time point being predicted."
   ]
  },
  {
   "cell_type": "code",
   "execution_count": null,
   "metadata": {},
   "outputs": [],
   "source": [
    "!export PYTHONPATH=$(dirname $(pwd)) && \\\n",
    "python -m efseed-main.test --model_path \"output/Ross_test/train/Ross_test.zip\" --test_time \"2020-03-06 01:45:00\""
   ]
  },
  {
   "cell_type": "markdown",
   "metadata": {},
   "source": [
    "## <font color=blue >\n",
    "\n",
    "To predict on one timepoint, we provide the predict.py to produce a prediction and save the value into predict.txt.\n",
    "\n",
    "--**model_path**: The model zip file path.\n",
    "\n",
    "--**test_time**: The start time point being predicted."
   ]
  },
  {
   "cell_type": "code",
   "execution_count": null,
   "metadata": {},
   "outputs": [],
   "source": [
    "!export PYTHONPATH=$(dirname $(pwd)) && \\\n",
    "python -m efseed-main.predict --model_path \"output/Ross_test/train/Ross_test.zip\" --test_time \"2020-03-06 01:45:00\""
   ]
  }
 ],
 "metadata": {
  "kernelspec": {
   "display_name": "Python 3",
   "language": "python",
   "name": "python3"
  },
  "language_info": {
   "codemirror_mode": {
    "name": "ipython",
    "version": 3
   },
   "file_extension": ".py",
   "mimetype": "text/x-python",
   "name": "python",
   "nbconvert_exporter": "python",
   "pygments_lexer": "ipython3",
   "version": "3.8.3"
  }
 },
 "nbformat": 4,
 "nbformat_minor": 4
}
